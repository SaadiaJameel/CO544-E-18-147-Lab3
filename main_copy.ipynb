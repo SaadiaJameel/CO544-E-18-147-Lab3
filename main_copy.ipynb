{
 "cells": [
  {
   "cell_type": "code",
   "execution_count": null,
   "id": "7fbf7bc9",
   "metadata": {},
   "outputs": [],
   "source": [
    "# Import relevant libraries\n",
    "import pandas as pd\n",
    "import numpy as np\n",
    "import matplotlib.pyplot as plt\n",
    "import seaborn as sns\n",
    "import plotly.express as px\n",
    "from sklearn.linear_model import LogisticRegression\n",
    "from sklearn.metrics import classification_report, confusion_matrix\n",
    "import dash\n",
    "from dash import dcc, html\n",
    "from dash.dependencies import Input, Output, State\n",
    "import warnings\n",
    "\n",
    "warnings.filterwarnings(\"ignore\")\n",
    "\n",
    "data = pd.read_csv('data/winequality-red.csv')"
   ]
  },
  {
   "cell_type": "code",
   "execution_count": null,
   "id": "bd2365f7",
   "metadata": {},
   "outputs": [],
   "source": [
    "# Display info\n",
    "data.info()"
   ]
  },
  {
   "cell_type": "code",
   "execution_count": null,
   "id": "3c9464d2",
   "metadata": {},
   "outputs": [],
   "source": [
    "# Display first few rows of data\n",
    "data.head()"
   ]
  },
  {
   "cell_type": "code",
   "execution_count": null,
   "id": "bed3cf8b",
   "metadata": {},
   "outputs": [],
   "source": [
    "# Check for missing values\n",
    "data.isna().sum()"
   ]
  },
  {
   "cell_type": "code",
   "execution_count": null,
   "id": "8240e4fe",
   "metadata": {},
   "outputs": [],
   "source": [
    "# Remove duplicate data\n",
    "data.drop_duplicates(keep='first')"
   ]
  },
  {
   "cell_type": "code",
   "execution_count": null,
   "id": "659d054f",
   "metadata": {},
   "outputs": [],
   "source": [
    "# Correlation matrix\n",
    "# Calculate the correlation matrix\n",
    "corr_matrix = data.corr()\n",
    "\n",
    "plt.figure(figsize=(12, 8), dpi=100)\n",
    "sns.heatmap(corr_matrix, center=0, cmap='Blues',annot=True)\n",
    "# plt.savefig(\"figures/correlation_matrix.png\", dpi=300)\n",
    "plt.show()"
   ]
  },
  {
   "cell_type": "code",
   "execution_count": null,
   "id": "a9d9f1bd",
   "metadata": {},
   "outputs": [],
   "source": [
    "# Check wine quality distribution\n",
    "plt.figure(dpi=100)\n",
    "sns.countplot(data=data, x='quality')\n",
    "plt.xlabel('Count')\n",
    "plt.ylabel('Quality Score')\n",
    "# plt.savefig(\"figures/wine_quality_distribution.png\", dpi=300)\n",
    "plt.show()"
   ]
  },
  {
   "cell_type": "code",
   "execution_count": null,
   "id": "0ddda53f",
   "metadata": {},
   "outputs": [],
   "source": [
    "# Label quality into Good (1) and Bad (0)\n",
    "data['quality'] = data['quality'].apply(lambda x: 1 if x >= 6.0 else 0)\n",
    "\n",
    "# Display dataframe\n",
    "data.head(50)"
   ]
  },
  {
   "cell_type": "code",
   "execution_count": null,
   "id": "c5a104bc",
   "metadata": {},
   "outputs": [],
   "source": [
    "# Check wine quality distribution\n",
    "plt.figure(dpi=100)\n",
    "sns.countplot(data=data, x='quality')\n",
    "plt.xticks([0, 1], ['Bad', 'Good'])"
   ]
  },
  {
   "cell_type": "code",
   "execution_count": null,
   "id": "a2c1b605",
   "metadata": {},
   "outputs": [],
   "source": [
    "# Get distinc count of quality\n",
    "quality_count = data['quality'].value_counts()\n",
    "quality_count"
   ]
  },
  {
   "cell_type": "code",
   "execution_count": null,
   "id": "08800d24",
   "metadata": {},
   "outputs": [],
   "source": [
    "# Drop the target variable\n",
    "X = data.drop('quality', axis=1)\n",
    "# Set the target variable as the label\n",
    "y = data['quality']"
   ]
  },
  {
   "cell_type": "code",
   "execution_count": null,
   "id": "210d3bdf",
   "metadata": {},
   "outputs": [],
   "source": [
    "# Display shape\n",
    "print(X.shape)\n",
    "print(y.shape)"
   ]
  },
  {
   "cell_type": "code",
   "execution_count": null,
   "id": "956f58f6",
   "metadata": {},
   "outputs": [],
   "source": [
    "# from sklearn.feature_selection import SelectKBest, f_classif\n",
    "\n",
    "# # Select the top 5 features using SelectKBest\n",
    "# kbest = SelectKBest(score_func=f_classif, k=5)\n",
    "# X_new = kbest.fit_transform(X, y)\n",
    "\n",
    "# # Print the selected features\n",
    "# print(X.columns[kbest.get_support()])\n",
    "\n",
    "# # Reassign the selected features to X\n",
    "# X = X[X.columns[kbest.get_support()]]"
   ]
  },
  {
   "cell_type": "code",
   "execution_count": null,
   "id": "51197af6",
   "metadata": {},
   "outputs": [],
   "source": [
    "from sklearn.model_selection import train_test_split\n",
    "\n",
    "# # Split the data into training and testing sets (80% training, 20% testing)\n",
    "X_train, X_test, y_train, y_test = train_test_split(X, y, test_size=0.20, random_state=42)"
   ]
  },
  {
   "cell_type": "code",
   "execution_count": null,
   "id": "9b5d31ca",
   "metadata": {},
   "outputs": [],
   "source": [
    "from sklearn.linear_model import LogisticRegression\n",
    "\n",
    "# Create an instance of the logistic regression model\n",
    "logreg_model = LogisticRegression()\n",
    "\n",
    "# Fit the model to the training data\n",
    "logreg_model.fit(X_train, y_train)"
   ]
  },
  {
   "cell_type": "code",
   "execution_count": null,
   "id": "beb8e496",
   "metadata": {},
   "outputs": [],
   "source": [
    "# Predict the labels of the test set\n",
    "y_pred = logreg_model.predict(X_test)\n",
    "\n",
    "# Create confusion matrix\n",
    "confusion_mat = confusion_matrix(y_test, y_pred)\n",
    "\n",
    "# plot confusion matrix using seaborn\n",
    "plt.figure(dpi=100)\n",
    "sns.heatmap(confusion_mat, annot=True, cmap='Blues', fmt='g')\n",
    "plt.xlabel('Predicted')\n",
    "plt.ylabel('Actual')\n",
    "# plt.savefig(\"figures/confusion_matrix.png\", dpi=300)\n",
    "plt.show()"
   ]
  },
  {
   "cell_type": "code",
   "execution_count": null,
   "id": "7f58c840",
   "metadata": {},
   "outputs": [],
   "source": [
    "from sklearn.metrics import accuracy_score, precision_score, recall_score, f1_score\n",
    "\n",
    "# Compute the accuracy of the model\n",
    "accuracy = accuracy_score(y_test, y_pred)\n",
    "\n",
    "# Compute the precision of the model\n",
    "precision = precision_score(y_test, y_pred)\n",
    "\n",
    "# Compute the recall of the model\n",
    "recall = recall_score(y_test, y_pred)\n",
    "\n",
    "# Compute the F1 score of the model\n",
    "f1 = f1_score(y_test, y_pred)\n",
    "\n",
    "# Print the evaluation metrics\n",
    "print(\"Accuracy:\", accuracy)\n",
    "print(\"Precision:\", precision)\n",
    "print(\"Recall:\", recall)\n",
    "print(\"F1 score:\", f1)"
   ]
  },
  {
   "cell_type": "code",
   "execution_count": null,
   "id": "33af8073",
   "metadata": {},
   "outputs": [],
   "source": [
    "# Import relevant libraries\n",
    "from sklearn.metrics import roc_curve, roc_auc_score\n",
    "\n",
    "# y_true and y_score are the true labels and predicted scores, respectively\n",
    "fpr, tpr, thresholds = roc_curve(y_test, y_pred)\n",
    "auc_score = roc_auc_score(y_test, y_pred)\n",
    "\n",
    "plt.figure(dpi=100)\n",
    "plt.plot(fpr, tpr, color='blue', label='ROC curve (AUC = %0.2f)' % auc_score)\n",
    "plt.plot([0, 1], [0, 1], color='red', linestyle='--')\n",
    "plt.xlabel('False Positive Rate')\n",
    "plt.ylabel('True Positive Rate')\n",
    "plt.title('Receiver Operating Characteristic (ROC) Curve')\n",
    "plt.legend(loc=\"lower right\")\n",
    "# plt.savefig(\"figures/roc_curve.png\", dpi=300)\n",
    "plt.show()"
   ]
  },
  {
   "cell_type": "code",
   "execution_count": null,
   "id": "d38f0930",
   "metadata": {},
   "outputs": [],
   "source": [
    "# Create the Dash app\n",
    "# external_stylesheets = ['https://fonts.googleapis.com/css2?family=Open+Sans&display=swap']\n",
    "\n",
    "app = dash.Dash(__name__)\n",
    "# app = dash.Dash(__name__, external_stylesheets=external_stylesheets)\n",
    "\n",
    "# Define the layout of the dashboard\n",
    "app.layout = html.Div(\n",
    "#     style={'font-family': 'Open Sans'}, \n",
    "    children=[\n",
    "    \n",
    "    html.H1('CO544-2023 Lab 3: Wine Quality Prediction'),\n",
    "    \n",
    "    html.Div([\n",
    "        html.H3('Exploratory Data Analysis'),\n",
    "        html.Label('Feature 1 (X-axis)'),\n",
    "        dcc.Dropdown(\n",
    "            id='x_feature',\n",
    "            options=[{'label': col, 'value': col} for col in data.columns],\n",
    "            value=data.columns[0]\n",
    "        )\n",
    "    ], style={'width': '30%', 'display': 'inline-block'}),\n",
    "    \n",
    "    html.Div([\n",
    "        html.Label('Feature 2 (Y-axis)'),\n",
    "        dcc.Dropdown(\n",
    "            id='y_feature',\n",
    "            options=[{'label': col, 'value': col} for col in data.columns],\n",
    "            value=data.columns[1]\n",
    "        )\n",
    "    ], style={'width': '30%', 'display': 'inline-block'}),\n",
    "    \n",
    "    dcc.Graph(id='correlation_plot'),\n",
    "    \n",
    "    # Wine quality prediction based on input feature values\n",
    "    html.H3(\"Wine Quality Prediction\"),\n",
    "    html.Div([\n",
    "        html.Label(\"Fixed Acidity\"),\n",
    "        dcc.Input(id='fixed_acidity', type='number', required=True),    \n",
    "        html.Label(\"Volatile Acidity\"),\n",
    "        dcc.Input(id='volatile_acidity', type='number', required=True), \n",
    "        html.Label(\"Citric Acid\"),\n",
    "        dcc.Input(id='citric_acid', type='number', required=True),\n",
    "        html.Br(),\n",
    "        \n",
    "        html.Label(\"Residual Sugar\"),\n",
    "        dcc.Input(id='residual_sugar', type='number', required=True),  \n",
    "        html.Label(\"Chlorides\"),\n",
    "        dcc.Input(id='chlorides', type='number', required=True), \n",
    "        html.Label(\"Free Sulfur Dioxide\"),\n",
    "        dcc.Input(id='free_sulfur_dioxide', type='number', required=True),\n",
    "        html.Br(),\n",
    "        \n",
    "        html.Label(\"Total Sulfur Dioxide\"),\n",
    "        dcc.Input(id='total_sulfur_dioxide', type='number', required=True),\n",
    "        html.Label(\"Density\"),\n",
    "        dcc.Input(id='density', type='number', required=True),\n",
    "        html.Label(\"pH\"),\n",
    "        dcc.Input(id='ph', type='number', required=True),\n",
    "        html.Br(),\n",
    "        \n",
    "        html.Label(\"Sulphates\"),\n",
    "        dcc.Input(id='sulphates', type='number', required=True),\n",
    "        html.Label(\"Alcohol\"),\n",
    "        dcc.Input(id='alcohol', type='number', required=True),\n",
    "        html.Br(),\n",
    "    ]),\n",
    "\n",
    "    html.Div([\n",
    "        html.Button('Predict', id='predict-button', n_clicks=0),\n",
    "    ]),\n",
    "\n",
    "    html.Div([\n",
    "        html.H4(\"Predicted Quality\"),\n",
    "        html.Div(id='prediction-output')\n",
    "    ])\n",
    "])\n",
    "\n",
    "# Define the callback to update the correlation plot\n",
    "@app.callback(\n",
    "    dash.dependencies.Output('correlation_plot', 'figure'),\n",
    "    [dash.dependencies.Input('x_feature', 'value'),\n",
    "     dash.dependencies.Input('y_feature', 'value')]\n",
    ")\n",
    "def update_correlation_plot(x_feature, y_feature):\n",
    "    fig = px.scatter(data, x=x_feature, y=y_feature, color='quality')\n",
    "    fig.update_layout(title=f\"Correlation between {x_feature} and {y_feature}\")\n",
    "    return fig\n",
    "\n",
    "# Define the callback function to predict wine quality\n",
    "@app.callback(\n",
    "    Output(component_id='prediction-output', component_property='children'),\n",
    "    [Input('predict-button', 'n_clicks')],\n",
    "    [State('fixed_acidity', 'value'),\n",
    "     State('volatile_acidity', 'value'),\n",
    "     State('citric_acid', 'value'),\n",
    "     State('residual_sugar', 'value'),\n",
    "     State('chlorides', 'value'),\n",
    "     State('free_sulfur_dioxide', 'value'),\n",
    "     State('total_sulfur_dioxide', 'value'),\n",
    "     State('density', 'value'),\n",
    "     State('ph', 'value'),\n",
    "     State('sulphates', 'value'),\n",
    "     State('alcohol', 'value')]\n",
    ")\n",
    "def predict_quality(n_clicks, fixed_acidity, volatile_acidity, citric_acid, residual_sugar,\n",
    "                     chlorides, free_sulfur_dioxide, total_sulfur_dioxide, density, ph, sulphates, alcohol):\n",
    "    # Create input features array for prediction\n",
    "    input_features = np.array([fixed_acidity, volatile_acidity, citric_acid, residual_sugar, chlorides, \n",
    "                               free_sulfur_dioxide, total_sulfur_dioxide, density, ph, sulphates, alcohol]).reshape(1, -1)\n",
    "\n",
    "    # Predict the wine quality (0 = bad, 1 = good)\n",
    "    prediction = logreg_model.predict(input_features)[0]\n",
    "\n",
    "    # Return the prediction\n",
    "    if prediction == 1:\n",
    "        return 'This wine is predicted to be good quality.'\n",
    "    else:\n",
    "        return 'This wine is predicted to be bad quality.'\n",
    "\n",
    "\n",
    "if __name__ == '__main__':\n",
    "    app.run_server(debug=False)"
   ]
  },
  {
   "cell_type": "code",
   "execution_count": null,
   "id": "1830e8d1",
   "metadata": {},
   "outputs": [],
   "source": [
    "# sample_data = [9.1, 0.4, 0.5, 1.8, 0.071, 7.0, 16.0, 0.9946, 3.21, 0.69, 12.5]])"
   ]
  },
  {
   "cell_type": "code",
   "execution_count": null,
   "id": "e4db6e15",
   "metadata": {},
   "outputs": [],
   "source": []
  }
 ],
 "metadata": {
  "kernelspec": {
   "display_name": "Python 3 (ipykernel)",
   "language": "python",
   "name": "python3"
  },
  "language_info": {
   "codemirror_mode": {
    "name": "ipython",
    "version": 3
   },
   "file_extension": ".py",
   "mimetype": "text/x-python",
   "name": "python",
   "nbconvert_exporter": "python",
   "pygments_lexer": "ipython3",
   "version": "3.11.0"
  }
 },
 "nbformat": 4,
 "nbformat_minor": 5
}
